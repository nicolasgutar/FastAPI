{
 "cells": [
  {
   "cell_type": "code",
   "id": "initial_id",
   "metadata": {
    "collapsed": true,
    "ExecuteTime": {
     "end_time": "2024-09-19T12:11:41.515777Z",
     "start_time": "2024-09-19T12:11:41.490542Z"
    }
   },
   "source": [
    "from sqlalchemy import create_engine\n",
    "import psycopg2\n",
    "import pandas as pd"
   ],
   "outputs": [],
   "execution_count": 2
  },
  {
   "metadata": {
    "ExecuteTime": {
     "end_time": "2024-09-19T12:11:42.011907Z",
     "start_time": "2024-09-19T12:11:41.519603Z"
    }
   },
   "cell_type": "code",
   "source": [
    "crop_data = pd.read_csv('Crop Production data.csv')\n",
    "crop_data.info()"
   ],
   "id": "fb87e0e9a80318cc",
   "outputs": [
    {
     "name": "stdout",
     "output_type": "stream",
     "text": [
      "<class 'pandas.core.frame.DataFrame'>\n",
      "RangeIndex: 246091 entries, 0 to 246090\n",
      "Data columns (total 7 columns):\n",
      " #   Column         Non-Null Count   Dtype  \n",
      "---  ------         --------------   -----  \n",
      " 0   State_Name     246091 non-null  object \n",
      " 1   District_Name  246091 non-null  object \n",
      " 2   Crop_Year      246091 non-null  int64  \n",
      " 3   Season         246091 non-null  object \n",
      " 4   Crop           246091 non-null  object \n",
      " 5   Area           246091 non-null  float64\n",
      " 6   Production     242361 non-null  float64\n",
      "dtypes: float64(2), int64(1), object(4)\n",
      "memory usage: 13.1+ MB\n"
     ]
    }
   ],
   "execution_count": 3
  },
  {
   "metadata": {
    "ExecuteTime": {
     "end_time": "2024-09-19T12:12:01.748388Z",
     "start_time": "2024-09-19T12:12:01.575810Z"
    }
   },
   "cell_type": "code",
   "source": [
    "#limpiamos nulos para que no haya problemas pasando a SQL\n",
    "crop_data = crop_data.dropna()\n",
    "crop_data.info()"
   ],
   "id": "ff9a1487c721241b",
   "outputs": [
    {
     "name": "stdout",
     "output_type": "stream",
     "text": [
      "<class 'pandas.core.frame.DataFrame'>\n",
      "Index: 242361 entries, 0 to 246090\n",
      "Data columns (total 7 columns):\n",
      " #   Column         Non-Null Count   Dtype  \n",
      "---  ------         --------------   -----  \n",
      " 0   State_Name     242361 non-null  object \n",
      " 1   District_Name  242361 non-null  object \n",
      " 2   Crop_Year      242361 non-null  int64  \n",
      " 3   Season         242361 non-null  object \n",
      " 4   Crop           242361 non-null  object \n",
      " 5   Area           242361 non-null  float64\n",
      " 6   Production     242361 non-null  float64\n",
      "dtypes: float64(2), int64(1), object(4)\n",
      "memory usage: 14.8+ MB\n"
     ]
    }
   ],
   "execution_count": 4
  },
  {
   "metadata": {
    "ExecuteTime": {
     "end_time": "2024-09-19T12:12:34.446165Z",
     "start_time": "2024-09-19T12:12:32.791759Z"
    }
   },
   "cell_type": "code",
   "source": [
    "#guardamos los datos nuevos\n",
    "crop_data.to_csv('CropData.csv', sep='|', index=False)"
   ],
   "id": "2e2ca7d7cd1ca6f8",
   "outputs": [],
   "execution_count": 5
  },
  {
   "metadata": {
    "ExecuteTime": {
     "end_time": "2024-09-19T12:12:38.847220Z",
     "start_time": "2024-09-19T12:12:38.807864Z"
    }
   },
   "cell_type": "code",
   "source": [
    "connection = psycopg2.connect(host = 'localhost',\n",
    "                              database = 'crop_db',\n",
    "                              user='user',\n",
    "                              password = 'password',\n",
    "                              port=5433)\n",
    "\n",
    "cursor = connection.cursor()"
   ],
   "id": "e4634eed4377a126",
   "outputs": [],
   "execution_count": 6
  },
  {
   "metadata": {
    "ExecuteTime": {
     "end_time": "2024-09-19T12:12:41.306584Z",
     "start_time": "2024-09-19T12:12:41.276901Z"
    }
   },
   "cell_type": "code",
   "source": "cursor.execute(\"DROP TABLE IF EXISTS CropData\")",
   "id": "e71c04c337b9f84f",
   "outputs": [],
   "execution_count": 7
  },
  {
   "metadata": {
    "ExecuteTime": {
     "end_time": "2024-09-19T12:12:44.606141Z",
     "start_time": "2024-09-19T12:12:44.571650Z"
    }
   },
   "cell_type": "code",
   "source": [
    "cursor.execute(\"\"\"\n",
    "CREATE TABLE CropData (\n",
    "    State_Name VARCHAR(255),\n",
    "    District_Name VARCHAR(255),\n",
    "    Crop_Year INT,\n",
    "    Season VARCHAR(255),\n",
    "    Crop VARCHAR(255),\n",
    "    Area FLOAT,\n",
    "    Production FLOAT\n",
    ")\n",
    "\"\"\")"
   ],
   "id": "e2cce757d5f62708",
   "outputs": [],
   "execution_count": 8
  },
  {
   "metadata": {
    "ExecuteTime": {
     "end_time": "2024-09-19T12:12:47.193917Z",
     "start_time": "2024-09-19T12:12:47.172370Z"
    }
   },
   "cell_type": "code",
   "source": "connection.commit()",
   "id": "525435fb810b2ea5",
   "outputs": [],
   "execution_count": 9
  },
  {
   "metadata": {
    "ExecuteTime": {
     "end_time": "2024-09-19T12:12:53.126272Z",
     "start_time": "2024-09-19T12:12:50.950569Z"
    }
   },
   "cell_type": "code",
   "source": [
    "with open('CropData.csv', 'r') as f:\n",
    "    next(f)\n",
    "    cursor.copy_from(f, 'cropdata', sep='|')\n",
    "\n",
    "connection.commit()"
   ],
   "id": "c00216a20b8df474",
   "outputs": [],
   "execution_count": 10
  }
 ],
 "metadata": {
  "kernelspec": {
   "display_name": "Python 3",
   "language": "python",
   "name": "python3"
  },
  "language_info": {
   "codemirror_mode": {
    "name": "ipython",
    "version": 2
   },
   "file_extension": ".py",
   "mimetype": "text/x-python",
   "name": "python",
   "nbconvert_exporter": "python",
   "pygments_lexer": "ipython2",
   "version": "2.7.6"
  }
 },
 "nbformat": 4,
 "nbformat_minor": 5
}
